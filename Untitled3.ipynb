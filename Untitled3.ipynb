{
 "cells": [
  {
   "cell_type": "code",
   "execution_count": 1,
   "id": "4d96042c",
   "metadata": {},
   "outputs": [],
   "source": [
    "import sqlite3"
   ]
  },
  {
   "cell_type": "code",
   "execution_count": 3,
   "id": "11408bc8",
   "metadata": {},
   "outputs": [
    {
     "data": {
      "text/plain": [
       "<sqlite3.Cursor at 0x1adb6b9b1f0>"
      ]
     },
     "execution_count": 3,
     "metadata": {},
     "output_type": "execute_result"
    }
   ],
   "source": [
    "conn = sqlite3.connect('words.db')\n",
    "c = conn.cursor()\n",
    "c.execute(\"\"\"CREATE TABLE words\n",
    "(word_id integer NOT NULL,\n",
    "word text NOT NULL DEFAULT 'apple',\n",
    "sructure text,\n",
    "part_of_speech NOT NULL DEFAULT 'noun')\n",
    "\"\"\")"
   ]
  },
  {
   "cell_type": "code",
   "execution_count": 4,
   "id": "8024c4be",
   "metadata": {},
   "outputs": [],
   "source": [
    "c.execute(\"\"\"INSERT INTO words VALUES (1, 'table', 'R0F4', 'noun'),\n",
    "             (2, 'apple', 'R1Z2', 'noun'),\n",
    "             (3, 'animal', 'R2N3', 'noun'),\n",
    "             (4, 'house', 'R4H4', 'noun'),\n",
    "             (5, 'run', 'M1K2', 'verb'),\n",
    "             (6, 'bring', 'M2H3', 'verb'),\n",
    "             (7, 'hide', 'M3Y4', 'verb'),\n",
    "             (8, 'fly', 'M4E5', 'verb'),\n",
    "             (9, 'lazy', 'K1T2', 'adjective'),\n",
    "             (10, 'pretty', 'K2P3', 'adjective'),\n",
    "             (11, 'handsome', 'K2F4', 'adjective'),\n",
    "             (12, 'cute', 'K3M5', 'adjective')\"\"\")\n",
    "conn.commit()"
   ]
  },
  {
   "cell_type": "code",
   "execution_count": 5,
   "id": "0234b1d4",
   "metadata": {},
   "outputs": [
    {
     "name": "stdout",
     "output_type": "stream",
     "text": [
      "(1, 'table', 'R0F4', 'noun')\n",
      "(2, 'apple', 'R1Z2', 'noun')\n",
      "(3, 'animal', 'R2N3', 'noun')\n",
      "(4, 'house', 'R4H4', 'noun')\n",
      "(5, 'run', 'M1K2', 'verb')\n",
      "(6, 'bring', 'M2H3', 'verb')\n",
      "(7, 'hide', 'M3Y4', 'verb')\n",
      "(8, 'fly', 'M4E5', 'verb')\n",
      "(9, 'lazy', 'K1T2', 'adjective')\n",
      "(10, 'pretty', 'K2P3', 'adjective')\n",
      "(11, 'handsome', 'K2F4', 'adjective')\n",
      "(12, 'cute', 'K3M5', 'adjective')\n"
     ]
    }
   ],
   "source": [
    "for row in c.execute('SELECT * FROM words'):\n",
    "    print(row)"
   ]
  },
  {
   "cell_type": "code",
   "execution_count": 6,
   "id": "264da174",
   "metadata": {},
   "outputs": [
    {
     "name": "stdout",
     "output_type": "stream",
     "text": [
      "('table',)\n",
      "('run',)\n",
      "('pretty',)\n",
      "('lazy',)\n",
      "('house',)\n",
      "('hide',)\n",
      "('handsome',)\n",
      "('fly',)\n",
      "('cute',)\n",
      "('bring',)\n",
      "('apple',)\n",
      "('animal',)\n"
     ]
    }
   ],
   "source": [
    "sql1 = 'SELECT word FROM words ORDER BY word DESC'\n",
    "for row in c.execute(sql1):\n",
    "    print(row)"
   ]
  },
  {
   "cell_type": "code",
   "execution_count": 7,
   "id": "934c21eb",
   "metadata": {},
   "outputs": [
    {
     "name": "stdout",
     "output_type": "stream",
     "text": [
      "('run',)\n",
      "('bring',)\n",
      "('hide',)\n",
      "('fly',)\n"
     ]
    }
   ],
   "source": [
    "sql2 = 'SELECT word FROM words WHERE part_of_speech = \"verb\"'\n",
    "for row in c.execute(sql2):\n",
    "    print(row)"
   ]
  },
  {
   "cell_type": "code",
   "execution_count": 8,
   "id": "1ccd1070",
   "metadata": {},
   "outputs": [
    {
     "name": "stdout",
     "output_type": "stream",
     "text": [
      "(8, 'fly', 'M4E5', 'verb')\n",
      "(9, 'lazy', 'K1T2', 'adjective')\n",
      "(10, 'pretty', 'K2P3', 'adjective')\n",
      "(11, 'handsome', 'K2F4', 'adjective')\n",
      "(12, 'cute', 'K3M5', 'adjective')\n"
     ]
    }
   ],
   "source": [
    "sql3 = 'SELECT * FROM words WHERE word_id > 7'\n",
    "for row in c.execute(sql3):\n",
    "    print(row)"
   ]
  }
 ],
 "metadata": {
  "kernelspec": {
   "display_name": "Python 3 (ipykernel)",
   "language": "python",
   "name": "python3"
  },
  "language_info": {
   "codemirror_mode": {
    "name": "ipython",
    "version": 3
   },
   "file_extension": ".py",
   "mimetype": "text/x-python",
   "name": "python",
   "nbconvert_exporter": "python",
   "pygments_lexer": "ipython3",
   "version": "3.8.12"
  }
 },
 "nbformat": 4,
 "nbformat_minor": 5
}
